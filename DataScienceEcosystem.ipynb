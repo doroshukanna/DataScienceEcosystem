{
 "cells": [
  {
   "cell_type": "markdown",
   "id": "851fee3a-407b-4802-809a-40e50f79b1cc",
   "metadata": {},
   "source": [
    "# Data Science Tools and Ecosystem"
   ]
  },
  {
   "cell_type": "markdown",
   "id": "ed042d86-ee0a-48b8-a112-448c94ab73b2",
   "metadata": {},
   "source": [
    "In this notebook, Data Science Tools and Ecosystem are summarized"
   ]
  },
  {
   "cell_type": "markdown",
   "id": "5fc52dfa-c04a-432f-8968-0ebe20dd6091",
   "metadata": {},
   "source": [
    "Some of the popular languages that Data Scientists use are:\n",
    "\n",
    "1. Python  \n",
    "2. R  \n",
    "3. SQL\n"
   ]
  },
  {
   "cell_type": "markdown",
   "id": "e8939362-a8e8-4cf3-80d2-0dcf15728b12",
   "metadata": {},
   "source": [
    "Some of the commonly used libraries used by Data Scientists include:\n",
    "\n",
    "1. NumPy  \n",
    "2. Pandas  \n",
    "3. Matplotlib\n"
   ]
  },
  {
   "cell_type": "markdown",
   "id": "43b52afd-b97c-4be4-811b-e42db772fda4",
   "metadata": {},
   "source": [
    "| Data Science Tools |\n",
    "|------------------|\n",
    "| Jupyter Notebook  |\n",
    "| RStudio           |\n",
    "| Spyder            |\n"
   ]
  },
  {
   "cell_type": "markdown",
   "id": "7d3cb483-65c9-4c0c-83d3-96f519fb8a4b",
   "metadata": {},
   "source": [
    "### Below are a few examples of evaluating arithmetic expressions in Python"
   ]
  },
  {
   "cell_type": "code",
   "execution_count": 3,
   "id": "964954f9-d9d9-4dab-afaa-91f6a0edf9d0",
   "metadata": {},
   "outputs": [
    {
     "data": {
      "text/plain": [
       "17"
      ]
     },
     "execution_count": 3,
     "metadata": {},
     "output_type": "execute_result"
    }
   ],
   "source": [
    "# This is a simple arithmetic expression to multiply then add integers\n",
    "(3*4) + 5\n"
   ]
  },
  {
   "cell_type": "code",
   "execution_count": 4,
   "id": "1615d408-c36b-442f-abce-7dcc53dd276c",
   "metadata": {},
   "outputs": [
    {
     "data": {
      "text/plain": [
       "3.3333333333333335"
      ]
     },
     "execution_count": 4,
     "metadata": {},
     "output_type": "execute_result"
    }
   ],
   "source": [
    "# This will convert 200 minutes to hours by dividing by 60\n",
    "200 / 60\n",
    "\n"
   ]
  },
  {
   "cell_type": "markdown",
   "id": "5d95dfbe-9194-433b-9336-3f434598df2b",
   "metadata": {},
   "source": [
    "**Objectives:**\n",
    "\n",
    "- List popular languages for Data Science\n",
    "- List commonly used libraries\n",
    "- Create a table of Data Science tools\n",
    "- Perform basic arithmetic operations in Python\n",
    "- Convert units (minutes to hours) using Python\n"
   ]
  },
  {
   "cell_type": "markdown",
   "id": "6d7bcc11-8574-4c30-b46f-f8c75b7ae990",
   "metadata": {},
   "source": [
    "## Author\n",
    "\n",
    "Hanna Doroshuk\n"
   ]
  },
  {
   "cell_type": "code",
   "execution_count": null,
   "id": "e5847e05-732e-4031-bb5d-2c48e716353d",
   "metadata": {},
   "outputs": [],
   "source": []
  }
 ],
 "metadata": {
  "kernelspec": {
   "display_name": "Python 3 (ipykernel)",
   "language": "python",
   "name": "python3"
  },
  "language_info": {
   "codemirror_mode": {
    "name": "ipython",
    "version": 3
   },
   "file_extension": ".py",
   "mimetype": "text/x-python",
   "name": "python",
   "nbconvert_exporter": "python",
   "pygments_lexer": "ipython3",
   "version": "3.12.8"
  }
 },
 "nbformat": 4,
 "nbformat_minor": 5
}
